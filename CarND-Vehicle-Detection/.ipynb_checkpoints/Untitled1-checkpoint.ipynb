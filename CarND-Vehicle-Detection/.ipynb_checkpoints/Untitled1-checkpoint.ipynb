{
 "cells": [
  {
   "cell_type": "code",
   "execution_count": null,
   "metadata": {},
   "outputs": [],
   "source": [
    "import matplotlib.image as mpimg\n",
    "import matplotlib.pyplot as plt\n",
    "import numpy as np\n",
    "import cv2\n",
    "import csv\n",
    "import glob\n",
    "from skimage.feature import hog\n",
    "import time\n",
    "from sklearn.svm import LinearSVC\n",
    "from sklearn.preprocessing import StandardScaler\n",
    "from sklearn.model_selection import train_test_split\n",
    "from scipy.ndimage.measurements import label\n",
    "from sklearn import svm\n",
    "from sklearn.svm import SVR\n",
    "\n",
    "def create_data(logfile):\n",
    "        lines=[]\n",
    "        with open(logfile) as csvfile:\n",
    "                reader = csv.reader(csvfile)\n",
    "                for line in reader:\n",
    "                    lines.append(line)\n",
    "                lines = lines[1::]\n",
    "                for ll in lines:\n",
    "                    xmin = ll[0]\n",
    "                    ymin = ll[1]\n",
    "                    xmax = ll[2]\n",
    "                    ymax = ll[3]\n",
    "                    filename = ll[4]\n",
    "                    label = ll[5]\n",
    "                    if(label==\"Car\"):\n",
    "                        im = cv2.imread(filename)\n",
    "                        im2 = im[xmin:xmax,ymin:ymax]\n",
    "                        im3 = cv2.resize(im2,(64,64))\n",
    "                        cv2.imwrite(filename+\".png\",im3)\n",
    "\n",
    "    \n",
    "create_data()"
   ]
  }
 ],
 "metadata": {
  "kernelspec": {
   "display_name": "Python 3",
   "language": "python",
   "name": "python3"
  },
  "language_info": {
   "codemirror_mode": {
    "name": "ipython",
    "version": 3
   },
   "file_extension": ".py",
   "mimetype": "text/x-python",
   "name": "python",
   "nbconvert_exporter": "python",
   "pygments_lexer": "ipython3",
   "version": "3.5.2"
  }
 },
 "nbformat": 4,
 "nbformat_minor": 2
}
