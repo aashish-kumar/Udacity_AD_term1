{
 "cells": [
  {
   "cell_type": "code",
   "execution_count": null,
   "metadata": {},
   "outputs": [],
   "source": [
    "def ransac_polyfit(x, y, order=3, n=20, k=100, t=0.1, d=100, f=0.8):\n",
    "  # Thanks https://en.wikipedia.org/wiki/Random_sample_consensus\n",
    "  \n",
    "  # n – minimum number of data points required to fit the model\n",
    "  # k – maximum number of iterations allowed in the algorithm\n",
    "  # t – threshold value to determine when a data point fits a model\n",
    "  # d – number of close data points required to assert that a model fits well to data\n",
    "  # f – fraction of close data points required\n",
    "  \n",
    "    besterr = np.inf\n",
    "    bestfit = None\n",
    "    for kk in xrange(k):\n",
    "        maybeinliers = np.random.randint(len(x), size=n)\n",
    "        maybemodel = np.polyfit(x[maybeinliers], y[maybeinliers], order)\n",
    "        alsoinliers = np.abs(np.polyval(maybemodel, x)-y) < t\n",
    "        if sum(alsoinliers) > d and sum(alsoinliers) > len(x)*f:\n",
    "            bettermodel = np.polyfit(x[alsoinliers], y[alsoinliers], order)\n",
    "        thiserr = np.sum(np.abs(np.polyval(bettermodel, x[alsoinliers])-y[alsoinliers]))\n",
    "        if thiserr < besterr:\n",
    "            bestfit = bettermodel\n",
    "            besterr = thiserr\n",
    "    return bestfit\n"
   ]
  }
 ],
 "metadata": {
  "kernelspec": {
   "display_name": "Python 3",
   "language": "python",
   "name": "python3"
  },
  "language_info": {
   "codemirror_mode": {
    "name": "ipython",
    "version": 3
   },
   "file_extension": ".py",
   "mimetype": "text/x-python",
   "name": "python",
   "nbconvert_exporter": "python",
   "pygments_lexer": "ipython3",
   "version": "3.5.2"
  }
 },
 "nbformat": 4,
 "nbformat_minor": 2
}
